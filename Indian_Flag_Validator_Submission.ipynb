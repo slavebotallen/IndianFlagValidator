{
 "cells": [
  {
   "cell_type": "code",
   "execution_count": null,
   "id": "335fb375",
   "metadata": {},
   "outputs": [],
   "source": [
    "# --- Setup: clone repo so validator.py + sample_images are available ---\n",
    "REPO_URL = \"https://github.com/slavebotallen/IndianFlagValidator.git\"\n",
    "REPO_DIR = REPO_URL.rsplit(\"/\", 1)[-1].replace(\".git\",\"\")\n",
    "\n",
    "!rm -rf $REPO_DIR\n",
    "!git clone $REPO_URL\n",
    "%cd $REPO_DIR\n",
    "\n",
    "# If sample_images.zip exists, unzip it\n",
    "import os\n",
    "if os.path.exists(\"sample_images.zip\"):\n",
    "    !unzip -o sample_images.zip -d sample_images\n",
    "\n",
    "# Import your validator module\n",
    "from validator import validate\n"
   ]
  },
  {
   "cell_type": "markdown",
   "id": "94e97fd7",
   "metadata": {},
   "source": [
    "# Indian_Flag_Validator_Submission.ipynb - Colab\n",
    "\n",
    "Author: Rithik Srivastava  \n",
    "Student Code: IITRPRAI_24082046\n",
    "\n",
    "---\n",
    "\n",
    "How to Run\n",
    "\n",
    "1. Upload **sample_images.zip** in the left panel (Files).  \n",
    "2. Run the cells top to bottom.  \n",
    "3. Reports will be saved to the `outputs/` folder and zipped as `outputs.zip`.  \n",
    "4. The summary table shows key results for each test image.\n"
   ]
  },
  {
   "cell_type": "code",
   "execution_count": null,
   "id": "cb491728",
   "metadata": {},
   "outputs": [],
   "source": [
    "!python --version\n",
    "import os, glob, json, time, zipfile\n",
    "import pandas as pd\n",
    "from google.colab import files\n",
    "from validator import validate"
   ]
  },
  {
   "cell_type": "code",
   "execution_count": null,
   "id": "6c8998d5",
   "metadata": {},
   "outputs": [],
   "source": [
    "# 1) Unzip uploaded sample_images.zip\n",
    "!unzip -o sample_images.zip -d sample_images"
   ]
  },
  {
   "cell_type": "code",
   "execution_count": null,
   "id": "751c43bb",
   "metadata": {},
   "outputs": [],
   "source": [
    "# 2) Paths\n",
    "SAMPLE_DIR = \"sample_images\"\n",
    "OUT_DIR = \"outputs\"\n",
    "os.makedirs(OUT_DIR, exist_ok=True)"
   ]
  },
  {
   "cell_type": "code",
   "execution_count": null,
   "id": "1ecadce3",
   "metadata": {},
   "outputs": [],
   "source": [
    "# 3) Process images\n",
    "paths = sorted([p for p in glob.glob(SAMPLE_DIR + \"/**/*\", recursive=True) if os.path.isfile(p)])\n",
    "print(\"Found images:\", len(paths))\n",
    "\n",
    "rows = []\n",
    "for p in paths:\n",
    "    try:\n",
    "        t0 = time.time()\n",
    "        rep = validate(p)\n",
    "        elapsed = time.time() - t0\n",
    "\n",
    "        base = os.path.splitext(os.path.basename(p))[0]\n",
    "        outp = os.path.join(OUT_DIR, base + \"_report.json\")\n",
    "        with open(outp, \"w\") as f:\n",
    "            json.dump(rep, f, indent=2)\n",
    "\n",
    "        # Summary row (fixed typo)\n",
    "        rows.append({\n",
    "            \"Image\": os.path.basename(p),\n",
    "            \"Processed (s)\": round(elapsed, 3),\n",
    "            \"Aspect Status\": rep[\"aspect_ratio\"][\"status\"],\n",
    "            \"Aspect Actual\": rep[\"aspect_ratio\"][\"actual\"],\n",
    "            \"Stripe Status\": rep[\"stripe_proportion\"][\"status\"],\n",
    "            \"Top Stripe\": rep[\"stripe_proportion\"][\"top\"],\n",
    "            \"Middle Stripe\": rep[\"stripe_proportion\"][\"middle\"],\n",
    "            \"Bottom Stripe\": rep[\"stripe_proportion\"][\"bottom\"],\n",
    "            \"Chakra Pos Status\": rep[\"chakra_position\"][\"status\"],\n",
    "            \"Spokes Detected\": rep[\"chakra_spokes\"][\"detected\"],\n",
    "            \"Spokes Status\": rep[\"chakra_spokes\"][\"status\"],\n",
    "            # Color statuses & deviations\n",
    "            \"Saffron\": f\"{rep['colors']['saffron']['status']} ({rep['colors']['saffron']['deviation']})\",\n",
    "            \"White\": f\"{rep['colors']['white']['status']} ({rep['colors']['white']['deviation']})\",\n",
    "            \"Green\": f\"{rep['colors']['green']['status']} ({rep['colors']['green']['deviation']})\",\n",
    "            \"Chakra Blue\": f\"{rep['colors']['chakra_blue']['status']} ({rep['colors']['chakra_blue']['deviation']})\",\n",
    "        })\n",
    "\n",
    "        print(f\"✅ {os.path.basename(p)} ->\", json.dumps(rep))\n",
    "\n",
    "        # Optional: warn if processing time > 3s\n",
    "        if elapsed > 3.0:\n",
    "            print(f\"⚠ WARNING: Processing time exceeded 3 seconds for {os.path.basename(p)}: {elapsed:.3f}s\")\n",
    "\n",
    "    except Exception as e:\n",
    "        print(f\"❌ {os.path.basename(p)} ->\", e)\n",
    "\n",
    "df = pd.DataFrame(rows)\n",
    "display(df)"
   ]
  },
  {
   "cell_type": "code",
   "execution_count": null,
   "id": "587b1945",
   "metadata": {},
   "outputs": [],
   "source": [
    "# 4) Zip outputs for download\n",
    "with zipfile.ZipFile(\"outputs.zip\", \"w\", zipfile.ZIP_DEFLATED) as zf:\n",
    "    for p in glob.glob(os.path.join(OUT_DIR, \"*.json\")):\n",
    "        zf.write(p)\n",
    "\n",
    "files.download(\"outputs.zip\")"
   ]
  }
 ],
 "metadata": {},
 "nbformat": 4,
 "nbformat_minor": 5
}
